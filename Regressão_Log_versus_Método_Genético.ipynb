{
  "nbformat": 4,
  "nbformat_minor": 0,
  "metadata": {
    "colab": {
      "provenance": [],
      "authorship_tag": "ABX9TyNa0dY3rJP+ciMUl15ihPLY",
      "include_colab_link": true
    },
    "kernelspec": {
      "name": "python3",
      "display_name": "Python 3"
    },
    "language_info": {
      "name": "python"
    }
  },
  "cells": [
    {
      "cell_type": "markdown",
      "metadata": {
        "id": "view-in-github",
        "colab_type": "text"
      },
      "source": [
        "<a href=\"https://colab.research.google.com/github/FabioMMaia/Genetic_Method_Supervised_Learning/blob/main/Regress%C3%A3o_Log_versus_M%C3%A9todo_Gen%C3%A9tico.ipynb\" target=\"_parent\"><img src=\"https://colab.research.google.com/assets/colab-badge.svg\" alt=\"Open In Colab\"/></a>"
      ]
    },
    {
      "cell_type": "code",
      "execution_count": 1,
      "metadata": {
        "id": "x33cgG2yZ-pe"
      },
      "outputs": [],
      "source": [
        "from scipy.optimize import rosen, differential_evolution\n",
        "import numpy as np\n",
        "from sklearn.model_selection import train_test_split\n"
      ]
    },
    {
      "cell_type": "code",
      "source": [
        "bounds = [(0,2), (0, 2), (0, 2), (0, 2), (0, 2)]\n",
        "result = differential_evolution(rosen, bounds)\n",
        "result.x, result.fun"
      ],
      "metadata": {
        "colab": {
          "base_uri": "https://localhost:8080/"
        },
        "id": "l5HFCSA8aa5O",
        "outputId": "08cab82e-b1f5-468f-90b0-43fb91a37f0c"
      },
      "execution_count": 2,
      "outputs": [
        {
          "output_type": "execute_result",
          "data": {
            "text/plain": [
              "(array([1., 1., 1., 1., 1.]), 0.0)"
            ]
          },
          "metadata": {},
          "execution_count": 2
        }
      ]
    },
    {
      "cell_type": "code",
      "source": [
        "?differential_evolution"
      ],
      "metadata": {
        "id": "X7VQ2aqRslnI"
      },
      "execution_count": 117,
      "outputs": []
    },
    {
      "cell_type": "code",
      "source": [
        "from scipy.optimize import NonlinearConstraint, Bounds\n",
        "\n",
        "\n",
        "def constr_f(x):\n",
        "    return np.array(x[0] + x[1])\n",
        "\n",
        "# the sum of x[0] and x[1] must be less than 1.9\n",
        "nlc = NonlinearConstraint(constr_f, -np.inf, 1.9)\n",
        "\n",
        "# specify limits using a `Bounds` object.\n",
        "bounds = Bounds([0., 0.], [2., 2.])\n",
        "result = differential_evolution(rosen, \n",
        "                                bounds, \n",
        "                                # constraints=(nlc),\n",
        "                                # maxiter=100,\n",
        "                                disp=True,\n",
        "                                seed=1)"
      ],
      "metadata": {
        "colab": {
          "base_uri": "https://localhost:8080/"
        },
        "id": "kMdKwmhtak2k",
        "outputId": "18636e60-400e-43b4-daa4-d7bcf98da763"
      },
      "execution_count": 12,
      "outputs": [
        {
          "output_type": "stream",
          "name": "stdout",
          "text": [
            "differential_evolution step 1: f(x)= 0.0453257\n",
            "differential_evolution step 2: f(x)= 0.00884818\n",
            "differential_evolution step 3: f(x)= 0.00461365\n",
            "differential_evolution step 4: f(x)= 0.00461365\n",
            "differential_evolution step 5: f(x)= 0.00461365\n",
            "differential_evolution step 6: f(x)= 0.00067755\n",
            "differential_evolution step 7: f(x)= 0.000105319\n",
            "differential_evolution step 8: f(x)= 0.000105319\n",
            "differential_evolution step 9: f(x)= 0.000105319\n",
            "differential_evolution step 10: f(x)= 0.000105319\n",
            "differential_evolution step 11: f(x)= 5.23031e-06\n",
            "differential_evolution step 12: f(x)= 5.23031e-06\n",
            "differential_evolution step 13: f(x)= 5.23031e-06\n",
            "differential_evolution step 14: f(x)= 5.23031e-06\n",
            "differential_evolution step 15: f(x)= 5.17001e-07\n",
            "differential_evolution step 16: f(x)= 5.17001e-07\n",
            "differential_evolution step 17: f(x)= 4.23071e-07\n",
            "differential_evolution step 18: f(x)= 4.23071e-07\n",
            "differential_evolution step 19: f(x)= 2.18459e-08\n",
            "differential_evolution step 20: f(x)= 2.18459e-08\n",
            "differential_evolution step 21: f(x)= 2.18459e-08\n",
            "differential_evolution step 22: f(x)= 2.18459e-08\n",
            "differential_evolution step 23: f(x)= 7.94918e-11\n",
            "differential_evolution step 24: f(x)= 7.94918e-11\n",
            "differential_evolution step 25: f(x)= 7.94918e-11\n",
            "differential_evolution step 26: f(x)= 7.94918e-11\n",
            "differential_evolution step 27: f(x)= 7.94918e-11\n",
            "differential_evolution step 28: f(x)= 2.46434e-11\n",
            "differential_evolution step 29: f(x)= 2.46434e-11\n",
            "differential_evolution step 30: f(x)= 2.46434e-11\n",
            "differential_evolution step 31: f(x)= 2.46434e-11\n",
            "differential_evolution step 32: f(x)= 2.46434e-11\n",
            "differential_evolution step 33: f(x)= 2.46434e-11\n",
            "differential_evolution step 34: f(x)= 5.29886e-12\n",
            "differential_evolution step 35: f(x)= 4.76959e-12\n",
            "differential_evolution step 36: f(x)= 4.76959e-12\n",
            "differential_evolution step 37: f(x)= 1.4126e-12\n",
            "differential_evolution step 38: f(x)= 5.19159e-14\n",
            "differential_evolution step 39: f(x)= 5.19159e-14\n",
            "differential_evolution step 40: f(x)= 1.06044e-14\n",
            "differential_evolution step 41: f(x)= 1.06044e-14\n",
            "differential_evolution step 42: f(x)= 1.06044e-14\n",
            "differential_evolution step 43: f(x)= 1.68743e-15\n",
            "differential_evolution step 44: f(x)= 1.68743e-15\n",
            "differential_evolution step 45: f(x)= 4.04897e-16\n",
            "differential_evolution step 46: f(x)= 4.04897e-16\n",
            "differential_evolution step 47: f(x)= 4.04897e-16\n",
            "differential_evolution step 48: f(x)= 3.45151e-16\n",
            "differential_evolution step 49: f(x)= 1.00828e-17\n",
            "differential_evolution step 50: f(x)= 4.29182e-18\n",
            "differential_evolution step 51: f(x)= 4.29182e-18\n",
            "differential_evolution step 52: f(x)= 4.23727e-18\n",
            "differential_evolution step 53: f(x)= 4.23727e-18\n",
            "differential_evolution step 54: f(x)= 4.23727e-18\n",
            "differential_evolution step 55: f(x)= 3.89885e-18\n",
            "differential_evolution step 56: f(x)= 3.89885e-18\n",
            "differential_evolution step 57: f(x)= 3.89885e-18\n",
            "differential_evolution step 58: f(x)= 2.74412e-18\n",
            "differential_evolution step 59: f(x)= 2.18101e-19\n",
            "differential_evolution step 60: f(x)= 2.18101e-19\n",
            "differential_evolution step 61: f(x)= 9.22935e-20\n",
            "differential_evolution step 62: f(x)= 9.22935e-20\n",
            "differential_evolution step 63: f(x)= 1.82013e-20\n",
            "differential_evolution step 64: f(x)= 1.82013e-20\n",
            "differential_evolution step 65: f(x)= 3.98554e-21\n",
            "differential_evolution step 66: f(x)= 3.98554e-21\n",
            "differential_evolution step 67: f(x)= 3.98554e-21\n",
            "differential_evolution step 68: f(x)= 3.98554e-21\n",
            "differential_evolution step 69: f(x)= 9.66009e-22\n",
            "differential_evolution step 70: f(x)= 9.66009e-22\n",
            "differential_evolution step 71: f(x)= 9.46704e-22\n",
            "differential_evolution step 72: f(x)= 2.4285e-23\n",
            "differential_evolution step 73: f(x)= 1.03624e-23\n",
            "differential_evolution step 74: f(x)= 1.03624e-23\n",
            "differential_evolution step 75: f(x)= 1.03624e-23\n",
            "differential_evolution step 76: f(x)= 1.03624e-23\n",
            "differential_evolution step 77: f(x)= 1.03624e-23\n",
            "differential_evolution step 78: f(x)= 1.03624e-23\n",
            "differential_evolution step 79: f(x)= 1.65884e-24\n",
            "differential_evolution step 80: f(x)= 1.65884e-24\n",
            "differential_evolution step 81: f(x)= 1.65884e-24\n",
            "differential_evolution step 82: f(x)= 7.85382e-25\n",
            "differential_evolution step 83: f(x)= 7.85382e-25\n",
            "differential_evolution step 84: f(x)= 7.85382e-25\n",
            "differential_evolution step 85: f(x)= 7.85382e-25\n",
            "differential_evolution step 86: f(x)= 3.0157e-26\n",
            "differential_evolution step 87: f(x)= 3.0157e-26\n",
            "differential_evolution step 88: f(x)= 3.0157e-26\n",
            "differential_evolution step 89: f(x)= 1.78332e-26\n",
            "differential_evolution step 90: f(x)= 3.22664e-27\n",
            "differential_evolution step 91: f(x)= 3.22664e-27\n",
            "differential_evolution step 92: f(x)= 3.22664e-27\n",
            "differential_evolution step 93: f(x)= 3.22664e-27\n",
            "differential_evolution step 94: f(x)= 1.14015e-27\n",
            "differential_evolution step 95: f(x)= 1.12215e-28\n",
            "differential_evolution step 96: f(x)= 1.12215e-28\n",
            "differential_evolution step 97: f(x)= 9.86076e-30\n",
            "differential_evolution step 98: f(x)= 9.86076e-30\n",
            "differential_evolution step 99: f(x)= 9.86076e-30\n",
            "differential_evolution step 100: f(x)= 9.86076e-30\n",
            "differential_evolution step 101: f(x)= 4.94271e-30\n",
            "differential_evolution step 102: f(x)= 4.94271e-30\n",
            "differential_evolution step 103: f(x)= 4.94271e-30\n",
            "differential_evolution step 104: f(x)= 4.94271e-30\n",
            "differential_evolution step 105: f(x)= 4.94271e-30\n",
            "differential_evolution step 106: f(x)= 2.41589e-30\n",
            "differential_evolution step 107: f(x)= 1.2326e-30\n",
            "differential_evolution step 108: f(x)= 1.2326e-30\n",
            "differential_evolution step 109: f(x)= 1.2326e-30\n",
            "differential_evolution step 110: f(x)= 4.93038e-32\n",
            "differential_evolution step 111: f(x)= 4.93038e-32\n",
            "differential_evolution step 112: f(x)= 1.2326e-32\n",
            "differential_evolution step 113: f(x)= 1.2326e-32\n",
            "differential_evolution step 114: f(x)= 1.2326e-32\n",
            "differential_evolution step 115: f(x)= 1.2326e-32\n",
            "differential_evolution step 116: f(x)= 0\n",
            "differential_evolution step 117: f(x)= 0\n",
            "differential_evolution step 118: f(x)= 0\n",
            "differential_evolution step 119: f(x)= 0\n",
            "differential_evolution step 120: f(x)= 0\n",
            "differential_evolution step 121: f(x)= 0\n",
            "differential_evolution step 122: f(x)= 0\n",
            "differential_evolution step 123: f(x)= 0\n",
            "differential_evolution step 124: f(x)= 0\n",
            "differential_evolution step 125: f(x)= 0\n",
            "differential_evolution step 126: f(x)= 0\n"
          ]
        }
      ]
    },
    {
      "cell_type": "code",
      "source": [
        "result"
      ],
      "metadata": {
        "colab": {
          "base_uri": "https://localhost:8080/"
        },
        "id": "BCYY-BtObFuE",
        "outputId": "e87e2f10-d5ff-40e2-c36a-721db917dada"
      },
      "execution_count": 13,
      "outputs": [
        {
          "output_type": "execute_result",
          "data": {
            "text/plain": [
              "     fun: 0.0\n",
              " message: 'Optimization terminated successfully.'\n",
              "    nfev: 3813\n",
              "     nit: 126\n",
              " success: True\n",
              "       x: array([1., 1.])"
            ]
          },
          "metadata": {},
          "execution_count": 13
        }
      ]
    },
    {
      "cell_type": "code",
      "source": [
        "def f(x):\n",
        "    return -np.array(x[0] + x[1])\n",
        "\n",
        "def constr(x):\n",
        "    return np.array(x[0]**2 + x[1]**2)\n",
        "\n",
        "# the sum of x[0] and x[1] must be less than 1.9\n",
        "nlc = NonlinearConstraint(constr, 0, 1)\n",
        "\n",
        "# specify limits using a `Bounds` object.\n",
        "bounds = Bounds([-5., -5.], [+5., +5.])\n",
        "\n",
        "# recombination é a taxa de cross-over\n",
        "\n",
        "result = differential_evolution(f, bounds, constraints=(nlc),disp=True, recombination=0.9,\n",
        "                                seed=1)"
      ],
      "metadata": {
        "colab": {
          "base_uri": "https://localhost:8080/"
        },
        "id": "TowGx8DybKMA",
        "outputId": "ed417f9e-567c-4e3b-9e9e-d5a0aee301ef"
      },
      "execution_count": 14,
      "outputs": [
        {
          "output_type": "stream",
          "name": "stdout",
          "text": [
            "differential_evolution step 1: f(x)= -1.16368\n",
            "differential_evolution step 2: f(x)= -1.16368\n",
            "differential_evolution step 3: f(x)= -1.16368\n",
            "differential_evolution step 4: f(x)= -1.29726\n",
            "differential_evolution step 5: f(x)= -1.31269\n",
            "differential_evolution step 6: f(x)= -1.38211\n",
            "differential_evolution step 7: f(x)= -1.4028\n",
            "differential_evolution step 8: f(x)= -1.4028\n",
            "differential_evolution step 9: f(x)= -1.40747\n",
            "differential_evolution step 10: f(x)= -1.40747\n",
            "differential_evolution step 11: f(x)= -1.411\n",
            "differential_evolution step 12: f(x)= -1.4122\n",
            "differential_evolution step 13: f(x)= -1.4122\n",
            "differential_evolution step 14: f(x)= -1.41411\n",
            "differential_evolution step 15: f(x)= -1.41411\n",
            "differential_evolution step 16: f(x)= -1.41411\n",
            "differential_evolution step 17: f(x)= -1.41411\n"
          ]
        },
        {
          "output_type": "stream",
          "name": "stderr",
          "text": [
            "/usr/local/lib/python3.8/dist-packages/scipy/optimize/_hessian_update_strategy.py:182: UserWarning: delta_grad == 0.0. Check if the approximated function is linear. If the function is linear better results can be obtained by defining the Hessian as zero instead of using quasi-Newton approximations.\n",
            "  warn('delta_grad == 0.0. Check if the approximated '\n"
          ]
        }
      ]
    },
    {
      "cell_type": "code",
      "source": [
        "result"
      ],
      "metadata": {
        "colab": {
          "base_uri": "https://localhost:8080/"
        },
        "id": "WmD3wkUAc8aN",
        "outputId": "969b7b0b-7373-4115-f716-4b97bf2d97c8"
      },
      "execution_count": 15,
      "outputs": [
        {
          "output_type": "execute_result",
          "data": {
            "text/plain": [
              "           constr: [array([0.])]\n",
              " constr_violation: 0.0\n",
              "              fun: -1.414213552133093\n",
              "              jac: [array([[1.41421355, 1.41421358]]), array([[1., 0.],\n",
              "       [0., 1.]])]\n",
              "            maxcv: 0.0\n",
              "          message: 'Optimization terminated successfully.'\n",
              "             nfev: 269\n",
              "              nit: 17\n",
              "          success: True\n",
              "                x: array([0.70710677, 0.70710678])"
            ]
          },
          "metadata": {},
          "execution_count": 15
        }
      ]
    },
    {
      "cell_type": "code",
      "source": [
        "from sklearn.datasets import load_breast_cancer\n",
        "data = load_breast_cancer()\n",
        "\n",
        "from scipy.stats import pearsonr"
      ],
      "metadata": {
        "id": "1W_LrR7_c-g0"
      },
      "execution_count": 16,
      "outputs": []
    },
    {
      "cell_type": "code",
      "source": [
        "X = data.data\n",
        "y = data.target"
      ],
      "metadata": {
        "id": "rzEZAHRpdJOo"
      },
      "execution_count": 17,
      "outputs": []
    },
    {
      "cell_type": "code",
      "source": [
        "m  = X.shape[1]"
      ],
      "metadata": {
        "id": "q9zNB7mGwkTe"
      },
      "execution_count": 18,
      "outputs": []
    },
    {
      "cell_type": "code",
      "source": [
        "X_train, X_test, y_train, y_test = train_test_split(X, y.reshape(-1,1), test_size=0.2, random_state=42)"
      ],
      "metadata": {
        "id": "ztU9AzPoeetY"
      },
      "execution_count": 38,
      "outputs": []
    },
    {
      "cell_type": "code",
      "source": [
        "# X_opt = X[:100,:]\n",
        "# y_opt =  y[:100]"
      ],
      "metadata": {
        "id": "yg3WfTWUevTo"
      },
      "execution_count": 39,
      "outputs": []
    },
    {
      "cell_type": "code",
      "source": [
        "# X_opt = (X_opt - X_opt.min())/(X_opt.max() - X_opt.min())"
      ],
      "metadata": {
        "id": "DFHYcu87u0_w"
      },
      "execution_count": 40,
      "outputs": []
    },
    {
      "cell_type": "code",
      "source": [
        "# y_opt.mean()"
      ],
      "metadata": {
        "id": "MiefK3Avul1W"
      },
      "execution_count": 41,
      "outputs": []
    },
    {
      "cell_type": "code",
      "source": [
        "X_test = (X_test - X_train.mean())/X_train.std()\n",
        "X_train = (X_train - X_train.mean())/X_train.std()"
      ],
      "metadata": {
        "id": "r53gUga8tAd0"
      },
      "execution_count": 42,
      "outputs": []
    },
    {
      "cell_type": "code",
      "source": [
        "def select_feat(n, n_slct, seed=1):\n",
        "  np.random.seed(seed)\n",
        "  rand_numbs=np.arange(n)\n",
        "  np.random.shuffle(rand_numbs)\n",
        "  rand_numbs = rand_numbs[:n_slct]\n",
        "  rand_numbs.sort() \n",
        "  return rand_numbs.tolist()\n",
        "\n",
        "\n",
        "import math\n",
        "\n",
        "def sigmoid(x):\n",
        "  return 1 / (1 + np.exp(-x))\n",
        "\n",
        "def score(betas):\n",
        "  # betas_eq = betas[:-1]\n",
        "  # scores = X_train @ betas_eq.reshape(-1,1)\n",
        "  # beta0 = betas[-1]\n",
        "  z = X_train @ betas[:-1].reshape(-1,1) + betas[-1]\n",
        "  y_proba = sigmoid(z)\n",
        "  # scores_norm  = (scores - scores.min())/(scores.max() - scores.min())\n",
        "  ypred = (y_proba>0.5).astype(int)\n",
        "  acc = (ypred == y_train).mean()\n",
        "  return -acc #pearsonr(np.squeeze(scores), np.squeeze(y_gen))[0]/acc\n",
        "\n",
        "# specify limits using a `Bounds` object.\n",
        "\n",
        "\n",
        "n_feat = m\n",
        "bounds = Bounds(-1*np.ones(n_feat+1) , 1.*np.ones(n_feat+1))\n",
        "# cols = select_feat(X.shape[1],n_feat)\n",
        "# X_gen = X_opt[:,cols]\n",
        "# y_gen = y_opt\n",
        "\n",
        "bets = np.random.random((1,5))[0]\n",
        "# score(X_opt, y_opt, cols, bets)\n",
        "\n",
        "result = differential_evolution(score, \n",
        "                                bounds,\n",
        "                                seed=1, \n",
        "                                disp=True,\n",
        "                                maxiter=10000)\n",
        "\n"
      ],
      "metadata": {
        "colab": {
          "base_uri": "https://localhost:8080/"
        },
        "id": "iJX-v9u_fnoX",
        "outputId": "b958f77c-8e99-4012-bce7-d7c499736a2c"
      },
      "execution_count": 92,
      "outputs": [
        {
          "output_type": "stream",
          "name": "stdout",
          "text": [
            "differential_evolution step 1: f(x)= -0.925275\n",
            "differential_evolution step 2: f(x)= -0.925275\n",
            "differential_evolution step 3: f(x)= -0.925275\n",
            "differential_evolution step 4: f(x)= -0.925275\n",
            "differential_evolution step 5: f(x)= -0.927473\n",
            "differential_evolution step 6: f(x)= -0.927473\n",
            "differential_evolution step 7: f(x)= -0.927473\n",
            "differential_evolution step 8: f(x)= -0.927473\n",
            "differential_evolution step 9: f(x)= -0.92967\n",
            "differential_evolution step 10: f(x)= -0.92967\n",
            "differential_evolution step 11: f(x)= -0.92967\n",
            "differential_evolution step 12: f(x)= -0.92967\n",
            "differential_evolution step 13: f(x)= -0.934066\n",
            "differential_evolution step 14: f(x)= -0.934066\n",
            "differential_evolution step 15: f(x)= -0.934066\n",
            "differential_evolution step 16: f(x)= -0.934066\n",
            "differential_evolution step 17: f(x)= -0.934066\n",
            "differential_evolution step 18: f(x)= -0.936264\n",
            "differential_evolution step 19: f(x)= -0.936264\n",
            "differential_evolution step 20: f(x)= -0.936264\n",
            "differential_evolution step 21: f(x)= -0.936264\n",
            "differential_evolution step 22: f(x)= -0.936264\n",
            "differential_evolution step 23: f(x)= -0.936264\n",
            "differential_evolution step 24: f(x)= -0.936264\n",
            "differential_evolution step 25: f(x)= -0.936264\n",
            "differential_evolution step 26: f(x)= -0.936264\n",
            "differential_evolution step 27: f(x)= -0.936264\n",
            "differential_evolution step 28: f(x)= -0.936264\n",
            "differential_evolution step 29: f(x)= -0.936264\n",
            "differential_evolution step 30: f(x)= -0.945055\n",
            "differential_evolution step 31: f(x)= -0.945055\n",
            "differential_evolution step 32: f(x)= -0.945055\n",
            "differential_evolution step 33: f(x)= -0.945055\n",
            "differential_evolution step 34: f(x)= -0.945055\n",
            "differential_evolution step 35: f(x)= -0.945055\n",
            "differential_evolution step 36: f(x)= -0.945055\n",
            "differential_evolution step 37: f(x)= -0.945055\n",
            "differential_evolution step 38: f(x)= -0.945055\n",
            "differential_evolution step 39: f(x)= -0.945055\n",
            "differential_evolution step 40: f(x)= -0.945055\n",
            "differential_evolution step 41: f(x)= -0.945055\n",
            "differential_evolution step 42: f(x)= -0.945055\n",
            "differential_evolution step 43: f(x)= -0.945055\n",
            "differential_evolution step 44: f(x)= -0.945055\n",
            "differential_evolution step 45: f(x)= -0.945055\n",
            "differential_evolution step 46: f(x)= -0.945055\n",
            "differential_evolution step 47: f(x)= -0.945055\n",
            "differential_evolution step 48: f(x)= -0.945055\n",
            "differential_evolution step 49: f(x)= -0.945055\n",
            "differential_evolution step 50: f(x)= -0.945055\n",
            "differential_evolution step 51: f(x)= -0.945055\n",
            "differential_evolution step 52: f(x)= -0.945055\n",
            "differential_evolution step 53: f(x)= -0.945055\n",
            "differential_evolution step 54: f(x)= -0.945055\n",
            "differential_evolution step 55: f(x)= -0.945055\n",
            "differential_evolution step 56: f(x)= -0.945055\n",
            "differential_evolution step 57: f(x)= -0.945055\n",
            "differential_evolution step 58: f(x)= -0.945055\n",
            "differential_evolution step 59: f(x)= -0.945055\n",
            "differential_evolution step 60: f(x)= -0.945055\n",
            "differential_evolution step 61: f(x)= -0.945055\n",
            "differential_evolution step 62: f(x)= -0.945055\n",
            "differential_evolution step 63: f(x)= -0.945055\n",
            "differential_evolution step 64: f(x)= -0.945055\n"
          ]
        }
      ]
    },
    {
      "cell_type": "code",
      "source": [
        "result"
      ],
      "metadata": {
        "colab": {
          "base_uri": "https://localhost:8080/"
        },
        "id": "OVoFUAd1vRjm",
        "outputId": "b3a24580-4782-4d61-a433-90640ba477f9"
      },
      "execution_count": 93,
      "outputs": [
        {
          "output_type": "execute_result",
          "data": {
            "text/plain": [
              "     fun: -0.945054945054945\n",
              " message: 'Optimization terminated successfully.'\n",
              "    nfev: 30257\n",
              "     nit: 64\n",
              " success: True\n",
              "       x: array([ 0.42862529, -0.44037682, -0.34019204,  0.1768564 ,  0.02924967,\n",
              "        0.9053158 , -0.65013338, -0.45547185, -0.90800971,  0.27133119,\n",
              "       -0.03584331,  0.30825681, -0.20360602, -0.07299694,  0.13024265,\n",
              "       -0.19287022, -0.68968202,  0.45853269,  0.46219272, -0.12436006,\n",
              "       -0.12213071, -0.83912586, -0.68843785, -0.12658796, -0.54859002,\n",
              "       -0.0810651 ,  0.89184312, -0.1653878 ,  0.12236383, -0.70580751,\n",
              "       -0.29622554])"
            ]
          },
          "metadata": {},
          "execution_count": 93
        }
      ]
    },
    {
      "cell_type": "code",
      "source": [
        "betas  = result.x\n",
        "y_pred_train = (sigmoid(X_train @ betas[:-1].reshape(-1,1) + betas[-1]) >.5).astype(int)\n",
        "\n",
        "y_pred_test = (sigmoid(X_test @ betas[:-1].reshape(-1,1) + betas[-1]) >.5).astype(int)\n",
        "\n",
        "print(accuracy_score(y_pred_train,y_train))\n",
        "print(accuracy_score(y_pred_test,y_test))"
      ],
      "metadata": {
        "colab": {
          "base_uri": "https://localhost:8080/"
        },
        "id": "BhP0XQ3FxgvX",
        "outputId": "0f1104e8-4b3a-4c80-f488-07dbaee200b5"
      },
      "execution_count": 116,
      "outputs": [
        {
          "output_type": "stream",
          "name": "stdout",
          "text": [
            "0.945054945054945\n",
            "0.9385964912280702\n"
          ]
        }
      ]
    },
    {
      "cell_type": "code",
      "source": [
        "from sklearn.linear_model import LogisticRegression\n",
        "from sklearn.metrics import accuracy_score\n",
        "\n",
        "clf = LogisticRegression(random_state=0).fit(X_train, y_train)\n",
        "print(accuracy_score(clf.predict(X_train),y_train))\n",
        "print(accuracy_score(clf.predict(X_test),y_test))"
      ],
      "metadata": {
        "colab": {
          "base_uri": "https://localhost:8080/"
        },
        "id": "mcQrx1KDvbpi",
        "outputId": "b48f5d8a-b330-4267-f60f-b74c238b00ff"
      },
      "execution_count": 99,
      "outputs": [
        {
          "output_type": "stream",
          "name": "stdout",
          "text": [
            "0.9164835164835164\n",
            "0.9473684210526315\n"
          ]
        },
        {
          "output_type": "stream",
          "name": "stderr",
          "text": [
            "/usr/local/lib/python3.8/dist-packages/sklearn/utils/validation.py:993: DataConversionWarning: A column-vector y was passed when a 1d array was expected. Please change the shape of y to (n_samples, ), for example using ravel().\n",
            "  y = column_or_1d(y, warn=True)\n"
          ]
        }
      ]
    },
    {
      "cell_type": "code",
      "source": [
        "clf.coef_"
      ],
      "metadata": {
        "colab": {
          "base_uri": "https://localhost:8080/"
        },
        "id": "iI4NPUEZxYFo",
        "outputId": "31c10728-0bde-47cc-cd86-294c56df6c8a"
      },
      "execution_count": 101,
      "outputs": [
        {
          "output_type": "execute_result",
          "data": {
            "text/plain": [
              "array([[ 1.94269581e-02, -5.25551033e-01, -1.15818977e-01,\n",
              "         1.70921022e+00, -2.07137900e-03, -7.64729205e-03,\n",
              "        -1.03774720e-02, -4.16499326e-03, -3.63440403e-03,\n",
              "        -9.84780680e-04, -7.39100076e-03, -3.17633245e-02,\n",
              "        -6.81434085e-02, -6.44471471e-01, -2.22915218e-04,\n",
              "        -1.88979118e-03, -2.37270882e-03, -5.96876811e-04,\n",
              "        -6.37978949e-04, -1.85901484e-04, -4.12059935e-02,\n",
              "        -8.83966689e-01, -6.71413486e-01, -3.30576407e+00,\n",
              "        -4.07897944e-03, -2.72023742e-02, -3.25124546e-02,\n",
              "        -8.94663743e-03, -1.03077769e-02, -3.19744944e-03]])"
            ]
          },
          "metadata": {},
          "execution_count": 101
        }
      ]
    },
    {
      "cell_type": "code",
      "source": [],
      "metadata": {
        "id": "mgZjEWeyxGne"
      },
      "execution_count": null,
      "outputs": []
    }
  ]
}